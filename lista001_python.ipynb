{
 "cells": [
  {
   "cell_type": "markdown",
   "metadata": {},
   "source": [
    "## Lista 01 - Python"
   ]
  },
  {
   "cell_type": "markdown",
   "metadata": {},
   "source": [
    "Nessa lista você deverá desenvolver o código para resolver as questões abaixo. Divida bem suas questões e utilize células markdown para indicar qual questão está respondendo. Documento bem seu código utilizando docstrings, comentários e células markdown."
   ]
  },
  {
   "cell_type": "markdown",
   "metadata": {},
   "source": [
    "1 - Execute todas as operações aritiméticas básicas (adição, subtração, divisão e multiplicação) com as variáveis 'a' e 'b' abaixo.\n",
    "a = 15\n",
    "b = 12"
   ]
  },
  {
   "cell_type": "code",
   "execution_count": 1,
   "metadata": {},
   "outputs": [
    {
     "name": "stdout",
     "output_type": "stream",
     "text": [
      "Soma:  27\n",
      "Subtração:  3\n",
      "Divisão:  1.25\n",
      "Multiplicação:  180\n"
     ]
    }
   ],
   "source": [
    "a = 15\n",
    "b = 12\n",
    "print('Soma: ', a+b )\n",
    "print('Subtração: ', a-b )\n",
    "print('Divisão: ', a/b )\n",
    "print('Multiplicação: ', a*b )"
   ]
  },
  {
   "cell_type": "markdown",
   "metadata": {},
   "source": [
    "2 - Tente calcular o seu IMC utilizando somente operações matemáticas. Dica: o IMC é calculado da seguinte forma: IMC = peso / (altura em metros * altura em metros)"
   ]
  },
  {
   "cell_type": "code",
   "execution_count": 3,
   "metadata": {},
   "outputs": [
    {
     "name": "stdout",
     "output_type": "stream",
     "text": [
      "Digite o peso em kilos \n",
      "107\n",
      "Digite a altura em metros \n",
      "1.87\n",
      "IMC = 30.598530\n"
     ]
    }
   ],
   "source": [
    "def imc(peso, altura):\n",
    "    return(peso/(altura*altura))\n",
    "#-\n",
    "peso = float(input('Digite o peso em kilos \\n'))\n",
    "altura = float(input('Digite a altura em metros \\n'))\n",
    "imc = imc(peso, altura)\n",
    "print('IMC = %f' %imc)"
   ]
  },
  {
   "cell_type": "markdown",
   "metadata": {},
   "source": [
    "3 - Sua professora de português pediu para você escrever a frase 'português é maravilhoso' 50 vezes. Como resolver esse problema com python? Demonstre sua solução."
   ]
  },
  {
   "cell_type": "code",
   "execution_count": 50,
   "metadata": {},
   "outputs": [
    {
     "name": "stdout",
     "output_type": "stream",
     "text": [
      "Português é maravilhoso \n",
      "Português é maravilhoso \n",
      "Português é maravilhoso \n",
      "Português é maravilhoso \n",
      "Português é maravilhoso \n",
      "Português é maravilhoso \n",
      "Português é maravilhoso \n",
      "Português é maravilhoso \n",
      "Português é maravilhoso \n",
      "Português é maravilhoso \n",
      "Português é maravilhoso \n",
      "Português é maravilhoso \n",
      "Português é maravilhoso \n",
      "Português é maravilhoso \n",
      "Português é maravilhoso \n",
      "Português é maravilhoso \n",
      "Português é maravilhoso \n",
      "Português é maravilhoso \n",
      "Português é maravilhoso \n",
      "Português é maravilhoso \n",
      "Português é maravilhoso \n",
      "Português é maravilhoso \n",
      "Português é maravilhoso \n",
      "Português é maravilhoso \n",
      "Português é maravilhoso \n",
      "Português é maravilhoso \n",
      "Português é maravilhoso \n",
      "Português é maravilhoso \n",
      "Português é maravilhoso \n",
      "Português é maravilhoso \n",
      "Português é maravilhoso \n",
      "Português é maravilhoso \n",
      "Português é maravilhoso \n",
      "Português é maravilhoso \n",
      "Português é maravilhoso \n",
      "Português é maravilhoso \n",
      "Português é maravilhoso \n",
      "Português é maravilhoso \n",
      "Português é maravilhoso \n",
      "Português é maravilhoso \n",
      "Português é maravilhoso \n",
      "Português é maravilhoso \n",
      "Português é maravilhoso \n",
      "Português é maravilhoso \n",
      "Português é maravilhoso \n",
      "Português é maravilhoso \n",
      "Português é maravilhoso \n",
      "Português é maravilhoso \n",
      "Português é maravilhoso \n",
      "Português é maravilhoso \n",
      "\n"
     ]
    }
   ],
   "source": [
    "str = 'Português é maravilhoso \\n'\n",
    "print(str*50)"
   ]
  },
  {
   "cell_type": "markdown",
   "metadata": {},
   "source": [
    "4 - Um modelo de regressão linear possui a seguinte fórmula: y=0.253*x + 125. Qual será o valor de Y quando X for 125?"
   ]
  },
  {
   "cell_type": "code",
   "execution_count": 51,
   "metadata": {},
   "outputs": [
    {
     "data": {
      "text/plain": [
       "156.625"
      ]
     },
     "execution_count": 51,
     "metadata": {},
     "output_type": "execute_result"
    }
   ],
   "source": [
    "x = 125\n",
    "y = (0.253*x+125)\n",
    "y"
   ]
  },
  {
   "cell_type": "markdown",
   "metadata": {},
   "source": [
    "5 - Qual é raiz cubica de 144? Utilize somente operações python apresentadas neste notebook."
   ]
  },
  {
   "cell_type": "code",
   "execution_count": 52,
   "metadata": {},
   "outputs": [
    {
     "data": {
      "text/plain": [
       "5.241482788417793"
      ]
     },
     "execution_count": 52,
     "metadata": {},
     "output_type": "execute_result"
    }
   ],
   "source": [
    "rc = 144 ** (1/3)\n",
    "rc"
   ]
  },
  {
   "cell_type": "markdown",
   "metadata": {},
   "source": [
    "6 - Nossa matéria terá dois trabalhos! Os pesos são, respectivamente, 4 e 6. Imagine que você tenha tirado 8.2 no primeiro projeto e 3.3 no segundo projeto. Levando em consideração sua nota final e os pesos, você tirou uma média maior que 5?"
   ]
  },
  {
   "cell_type": "code",
   "execution_count": 53,
   "metadata": {},
   "outputs": [
    {
     "name": "stdout",
     "output_type": "stream",
     "text": [
      "Média maior que 5 - 5.260000\n"
     ]
    }
   ],
   "source": [
    "n1 = 8.2\n",
    "n2 = 3.3\n",
    "nota = ((n1*0.4) + (n2*0.6))\n",
    "if nota > 5:\n",
    "    print('Média maior que 5 - %f' %nota)\n",
    "else:\n",
    "    print('Média menor que 5 - %f' %nota)"
   ]
  },
  {
   "cell_type": "markdown",
   "metadata": {},
   "source": [
    "7 - Crie uma lista 'a_list' com os seguintes valores: 1, hello, [1,2,3] e True."
   ]
  },
  {
   "cell_type": "code",
   "execution_count": 75,
   "metadata": {},
   "outputs": [
    {
     "data": {
      "text/plain": [
       "[1, 'hello', [1, 2, 3], True]"
      ]
     },
     "execution_count": 75,
     "metadata": {},
     "output_type": "execute_result"
    }
   ],
   "source": [
    "a_list = [1, 'hello', [1,2,3], True]\n",
    "a_list"
   ]
  },
  {
   "cell_type": "markdown",
   "metadata": {},
   "source": [
    "8 - Ache o valor em 'a_list' que esteja no índice -1."
   ]
  },
  {
   "cell_type": "code",
   "execution_count": 76,
   "metadata": {},
   "outputs": [
    {
     "data": {
      "text/plain": [
       "True"
      ]
     },
     "execution_count": 76,
     "metadata": {},
     "output_type": "execute_result"
    }
   ],
   "source": [
    "a_list[-1]"
   ]
  },
  {
   "cell_type": "markdown",
   "metadata": {},
   "source": [
    "9 - Encontre os valores em 'a_list' que estejam nos indices 1,2 e 3."
   ]
  },
  {
   "cell_type": "code",
   "execution_count": 77,
   "metadata": {},
   "outputs": [
    {
     "data": {
      "text/plain": [
       "['hello', [1, 2, 3], True]"
      ]
     },
     "execution_count": 77,
     "metadata": {},
     "output_type": "execute_result"
    }
   ],
   "source": [
    "a_list[1:4]"
   ]
  },
  {
   "cell_type": "markdown",
   "metadata": {},
   "source": [
    "10 - Junte as seguinte listas a=[1,2,3,4,5] e b=[11,12,13,14,15]"
   ]
  },
  {
   "cell_type": "code",
   "execution_count": 78,
   "metadata": {},
   "outputs": [
    {
     "data": {
      "text/plain": [
       "[1, 2, 3, 4, 5, 11, 12, 13, 14, 15]"
      ]
     },
     "execution_count": 78,
     "metadata": {},
     "output_type": "execute_result"
    }
   ],
   "source": [
    "a=[1,2,3,4,5]  \n",
    "b=[11,12,13,14,15]\n",
    "c = a+b\n",
    "c"
   ]
  },
  {
   "cell_type": "markdown",
   "metadata": {},
   "source": [
    "11 - Crie uma lista de listas 'list_list' que tenha os valores de 'a_list', 'a' e 'b'"
   ]
  },
  {
   "cell_type": "code",
   "execution_count": 79,
   "metadata": {},
   "outputs": [
    {
     "data": {
      "text/plain": [
       "[[1, 'hello', [1, 2, 3], True], [1, 2, 3, 4, 5], [11, 12, 13, 14, 15]]"
      ]
     },
     "execution_count": 79,
     "metadata": {},
     "output_type": "execute_result"
    }
   ],
   "source": [
    "list_list = []\n",
    "list_list.append(a_list)\n",
    "list_list.append(a)\n",
    "list_list.append(b)\n",
    "list_list"
   ]
  },
  {
   "cell_type": "markdown",
   "metadata": {},
   "source": [
    "12 - Qual o tamanho de 'list_list'?"
   ]
  },
  {
   "cell_type": "code",
   "execution_count": 80,
   "metadata": {},
   "outputs": [
    {
     "data": {
      "text/plain": [
       "3"
      ]
     },
     "execution_count": 80,
     "metadata": {},
     "output_type": "execute_result"
    }
   ],
   "source": [
    "len(list_list)"
   ]
  },
  {
   "cell_type": "markdown",
   "metadata": {},
   "source": [
    "13 - Adicione o valor 125 ao final de 'list_list'."
   ]
  },
  {
   "cell_type": "code",
   "execution_count": 81,
   "metadata": {},
   "outputs": [
    {
     "data": {
      "text/plain": [
       "[[1, 'hello', [1, 2, 3], True], [1, 2, 3, 4, 5], [11, 12, 13, 14, 15], 125]"
      ]
     },
     "execution_count": 81,
     "metadata": {},
     "output_type": "execute_result"
    }
   ],
   "source": [
    "list_list.append(125)\n",
    "list_list"
   ]
  },
  {
   "cell_type": "markdown",
   "metadata": {},
   "source": [
    "14 - Remova a lista [1,2,3] de 'list_list' e guarde esse valor numa variável 'list_a'."
   ]
  },
  {
   "cell_type": "code",
   "execution_count": 82,
   "metadata": {},
   "outputs": [
    {
     "name": "stdout",
     "output_type": "stream",
     "text": [
      "[1, 2, 3]\n",
      "[[1, 'hello', True], [1, 2, 3, 4, 5], [11, 12, 13, 14, 15], 125]\n"
     ]
    }
   ],
   "source": [
    "list_a = list_list[0][2]\n",
    "del(list_list[0][2])\n",
    "print(list_a)\n",
    "print(list_list)"
   ]
  },
  {
   "cell_type": "markdown",
   "metadata": {},
   "source": [
    "15 - Qual é o primeiro valor do segundo valor de [[1,3,5,7],[2,4,6,8,10]]?"
   ]
  },
  {
   "cell_type": "code",
   "execution_count": 83,
   "metadata": {},
   "outputs": [
    {
     "data": {
      "text/plain": [
       "2"
      ]
     },
     "execution_count": 83,
     "metadata": {},
     "output_type": "execute_result"
    }
   ],
   "source": [
    "a = [[1,3,5,7],[2,4,6,8,10]]\n",
    "a[1][0]"
   ]
  },
  {
   "cell_type": "markdown",
   "metadata": {},
   "source": [
    "16 - Crie a tupla 'gnr' com os seguintes valores: rock, metal, sertanejo, pop, lo-fi e chillwave, nessa ordem."
   ]
  },
  {
   "cell_type": "code",
   "execution_count": 85,
   "metadata": {},
   "outputs": [
    {
     "data": {
      "text/plain": [
       "('rock', 'metal', 'sertanejo', 'pop', 'lo-fi', 'chillwave')"
      ]
     },
     "execution_count": 85,
     "metadata": {},
     "output_type": "execute_result"
    }
   ],
   "source": [
    "gnr = ('rock', 'metal', 'sertanejo', 'pop', 'lo-fi', 'chillwave')\n",
    "gnr"
   ]
  },
  {
   "cell_type": "markdown",
   "metadata": {},
   "source": [
    "17 - Qual o terceiro valor da tupla 'gnr'?"
   ]
  },
  {
   "cell_type": "code",
   "execution_count": 87,
   "metadata": {},
   "outputs": [
    {
     "data": {
      "text/plain": [
       "'sertanejo'"
      ]
     },
     "execution_count": 87,
     "metadata": {},
     "output_type": "execute_result"
    }
   ],
   "source": [
    "gnr[2]"
   ]
  },
  {
   "cell_type": "markdown",
   "metadata": {},
   "source": [
    "18 - Qual o índice de lo-fi?"
   ]
  },
  {
   "cell_type": "code",
   "execution_count": 90,
   "metadata": {},
   "outputs": [
    {
     "data": {
      "text/plain": [
       "4"
      ]
     },
     "execution_count": 90,
     "metadata": {},
     "output_type": "execute_result"
    }
   ],
   "source": [
    "gnr.index('lo-fi')"
   ]
  },
  {
   "cell_type": "markdown",
   "metadata": {},
   "source": [
    "19 - Crie uma tupla de tuplas com as seguintes tuplas (15,30), (20,40) e (25,50). Como acessar o valor 40?"
   ]
  },
  {
   "cell_type": "code",
   "execution_count": 1,
   "metadata": {},
   "outputs": [
    {
     "data": {
      "text/plain": [
       "40"
      ]
     },
     "execution_count": 1,
     "metadata": {},
     "output_type": "execute_result"
    }
   ],
   "source": [
    "tpl = ((15,30), (20,40), (25,50))\n",
    "tpl[1][1]"
   ]
  },
  {
   "cell_type": "markdown",
   "metadata": {},
   "source": [
    "20 - Acesse a tupla 'gnr' a cada dois valores, qual gêneros musicais aparecem?"
   ]
  },
  {
   "cell_type": "code",
   "execution_count": 95,
   "metadata": {},
   "outputs": [
    {
     "name": "stdout",
     "output_type": "stream",
     "text": [
      "rock\n",
      "sertanejo\n",
      "lo-fi\n"
     ]
    }
   ],
   "source": [
    "for i, genero in enumerate(gnr):\n",
    "    if i%2 == 0:\n",
    "        print(genero)\n",
    "        "
   ]
  },
  {
   "cell_type": "markdown",
   "metadata": {},
   "source": [
    "21 - Crie o dicionário 'mcu' com os seguintes dados, 'Homem de Ferro':2008, 'Homem de Ferro 2':2010, 'Homem de ferro 3':2013, 'Avengers: Endgame':2019.\n",
    "\n",
    "    a - No dicionário 'mcu' quais são os valores?\n",
    "\n",
    "    b - No dicińario 'mcu' quais são as chaves?\n",
    "\n",
    "    c - Adicione ao dicionário 'mcu' os seguintes filmes: 'Avengers Infinity War':2018, 'Avengers Age of Ultron':2015.\n",
    "\n",
    "    e - Limpe o dicionário 'mcu'"
   ]
  },
  {
   "cell_type": "code",
   "execution_count": 107,
   "metadata": {},
   "outputs": [],
   "source": [
    "mcu = {'Homem de Ferro':2008, 'Homem de Ferro 2':2010, 'Homem de ferro 3':2013, 'Avengers: Endgame':2019}"
   ]
  },
  {
   "cell_type": "code",
   "execution_count": 108,
   "metadata": {},
   "outputs": [
    {
     "data": {
      "text/plain": [
       "dict_values([2008, 2010, 2013, 2019])"
      ]
     },
     "execution_count": 108,
     "metadata": {},
     "output_type": "execute_result"
    }
   ],
   "source": [
    "#a - No dicionário 'mcu' quais são os valores?\n",
    "mcu.values()"
   ]
  },
  {
   "cell_type": "code",
   "execution_count": 109,
   "metadata": {},
   "outputs": [
    {
     "data": {
      "text/plain": [
       "dict_keys(['Homem de Ferro', 'Homem de Ferro 2', 'Homem de ferro 3', 'Avengers: Endgame'])"
      ]
     },
     "execution_count": 109,
     "metadata": {},
     "output_type": "execute_result"
    }
   ],
   "source": [
    "#b - No dicińario 'mcu' quais são as chaves?\n",
    "mcu.keys()"
   ]
  },
  {
   "cell_type": "code",
   "execution_count": 110,
   "metadata": {},
   "outputs": [
    {
     "data": {
      "text/plain": [
       "{'Homem de Ferro': 2008,\n",
       " 'Homem de Ferro 2': 2010,\n",
       " 'Homem de ferro 3': 2013,\n",
       " 'Avengers: Endgame': 2019,\n",
       " 'Avengers Infinity War': 2018,\n",
       " 'Avengers Age of Ultron': 2015}"
      ]
     },
     "execution_count": 110,
     "metadata": {},
     "output_type": "execute_result"
    }
   ],
   "source": [
    "#c - Adicione ao dicionário 'mcu' os seguintes filmes: 'Avengers Infinity War':2018, 'Avengers Age of Ultron':2015.\n",
    "mcu['Avengers Infinity War'] = 2018\n",
    "mcu['Avengers Age of Ultron'] = 2015\n",
    "mcu"
   ]
  },
  {
   "cell_type": "code",
   "execution_count": 111,
   "metadata": {},
   "outputs": [
    {
     "data": {
      "text/plain": [
       "{'Homem de Ferro': 2008,\n",
       " 'Homem de Ferro 2': 2010,\n",
       " 'Avengers: Endgame': 2019,\n",
       " 'Avengers Infinity War': 2018,\n",
       " 'Avengers Age of Ultron': 2015}"
      ]
     },
     "execution_count": 111,
     "metadata": {},
     "output_type": "execute_result"
    }
   ],
   "source": [
    "#d - Delete o filme 'Homem de Ferro 3' do dicionário 'mcu'\n",
    "del mcu['Homem de ferro 3']\n",
    "mcu"
   ]
  },
  {
   "cell_type": "code",
   "execution_count": 115,
   "metadata": {},
   "outputs": [
    {
     "data": {
      "text/plain": [
       "{}"
      ]
     },
     "execution_count": 115,
     "metadata": {},
     "output_type": "execute_result"
    }
   ],
   "source": [
    "#e - Limpe o dicionário 'mcu'\n",
    "mcu.clear()\n",
    "mcu"
   ]
  },
  {
   "cell_type": "markdown",
   "metadata": {},
   "source": [
    "22 - Popule o dicionário vazio 'mcu' com as informações abaixo:\n",
    "'homem de ferro':{'filmes':3,'ator principal':'Robert Downey Jr.'},'Cpt.América':{'filmes':3,'ator principal':'Chris Evans'}"
   ]
  },
  {
   "cell_type": "code",
   "execution_count": 118,
   "metadata": {},
   "outputs": [
    {
     "data": {
      "text/plain": [
       "{'homem de ferro': {'filmes': 3, 'ator principal': 'Robert Downey Jr.'},\n",
       " 'Cpt.América': {'filmes': 3, 'ator principal': 'Chris Evans'}}"
      ]
     },
     "execution_count": 118,
     "metadata": {},
     "output_type": "execute_result"
    }
   ],
   "source": [
    "mcu = {'homem de ferro':{'filmes':3,'ator principal':'Robert Downey Jr.'},\n",
    "       'Cpt.América'   :{'filmes':3,'ator principal':'Chris Evans'}}\n",
    "mcu"
   ]
  },
  {
   "cell_type": "markdown",
   "metadata": {},
   "source": [
    "23 - Acesse somente a quantidade de filmes de cada uma das chaves do dicionário MCU."
   ]
  },
  {
   "cell_type": "code",
   "execution_count": 123,
   "metadata": {},
   "outputs": [
    {
     "name": "stdout",
     "output_type": "stream",
     "text": [
      "3\n",
      "3\n"
     ]
    }
   ],
   "source": [
    "for heroi in mcu:\n",
    "    print(mcu[heroi]['filmes']) "
   ]
  },
  {
   "cell_type": "markdown",
   "metadata": {},
   "source": [
    "24 - Quais são as chaves do dicionário de dicionários 'mcu'?"
   ]
  },
  {
   "cell_type": "code",
   "execution_count": 124,
   "metadata": {},
   "outputs": [
    {
     "data": {
      "text/plain": [
       "dict_keys(['homem de ferro', 'Cpt.América'])"
      ]
     },
     "execution_count": 124,
     "metadata": {},
     "output_type": "execute_result"
    }
   ],
   "source": [
    "mcu.keys()"
   ]
  },
  {
   "cell_type": "markdown",
   "metadata": {},
   "source": [
    "25 - Qual o tamanho do dicionário de dicionários 'mcu'?"
   ]
  },
  {
   "cell_type": "code",
   "execution_count": 125,
   "metadata": {},
   "outputs": [
    {
     "data": {
      "text/plain": [
       "2"
      ]
     },
     "execution_count": 125,
     "metadata": {},
     "output_type": "execute_result"
    }
   ],
   "source": [
    "len(mcu)"
   ]
  },
  {
   "cell_type": "markdown",
   "metadata": {},
   "source": [
    "26 - Escreva uma função python que receba uma lista e separe os múltiplos de 5. Ao final ela retorna a soma de todos os valores da lista de entrada que são múltiplos de 5."
   ]
  },
  {
   "cell_type": "code",
   "execution_count": 1,
   "metadata": {},
   "outputs": [
    {
     "name": "stdout",
     "output_type": "stream",
     "text": [
      "50\n"
     ]
    }
   ],
   "source": [
    "def mult_5(lista):\n",
    "    acum =0\n",
    "    for num in lista:\n",
    "        if num %5 ==0:\n",
    "            acum += num\n",
    "    return acum\n",
    "#\n",
    "lista_teste = [1,2,3,4,5,6,7,8,9,10,15,16,17,20,24]\n",
    "print(mult_5(lista_teste))            "
   ]
  },
  {
   "cell_type": "markdown",
   "metadata": {},
   "source": [
    "27 - Escreva uma função para verificar se uma palavra é um palíndromo e retorne 1 em casos positivos e zero em casos negativos."
   ]
  },
  {
   "cell_type": "code",
   "execution_count": 19,
   "metadata": {},
   "outputs": [
    {
     "data": {
      "text/plain": [
       "1"
      ]
     },
     "execution_count": 19,
     "metadata": {},
     "output_type": "execute_result"
    }
   ],
   "source": [
    "def palindromo(string): \n",
    "    invert = string[::-1]\n",
    "    if invert == string:\n",
    "        return 1\n",
    "    else:\n",
    "        return 0\n",
    "#\n",
    "palindromo('reviver')"
   ]
  },
  {
   "cell_type": "markdown",
   "metadata": {},
   "source": [
    "28 - Escreva uma função que receba uma lista crie um dicionário com a contagem dos valores dessa lista."
   ]
  },
  {
   "cell_type": "code",
   "execution_count": 3,
   "metadata": {},
   "outputs": [
    {
     "data": {
      "text/plain": [
       "{7: [1, 2, 3, 4, 5, 6, ['a', 'b', 'c']]}"
      ]
     },
     "execution_count": 3,
     "metadata": {},
     "output_type": "execute_result"
    }
   ],
   "source": [
    "def dic(lista):\n",
    "    dict = {}\n",
    "    dict[len(lista)]=lista\n",
    "    return dict\n",
    "#\n",
    "dic([1,2,3,4,5,6,['a','b','c']])"
   ]
  },
  {
   "cell_type": "markdown",
   "metadata": {},
   "source": [
    "29 - Escreva uma função que receba uma lista de listas, itere sobre cada lista, some seus valores, gere uma segunda lista e descubra o desvio padrão dela.\n",
    "entrada : [[12,12,5,6,3,6,8,5,5,5],[3,3,3,3,4,4,15,89,20,20],[15,15,15,20,30,35,35,35,15,15],[10,10,10,10,15,15,15,15],[5,5,2,2],[8,8,89,89,898,1000]]"
   ]
  },
  {
   "cell_type": "code",
   "execution_count": 25,
   "metadata": {},
   "outputs": [
    {
     "data": {
      "text/plain": [
       "739.9846282187218"
      ]
     },
     "execution_count": 25,
     "metadata": {},
     "output_type": "execute_result"
    }
   ],
   "source": [
    "import numpy as np\n",
    "listas = [[12,12,5,6,3,6,8,5,5,5],\n",
    " [3,3,3,3,4,4,15,89,20,20],\n",
    " [15,15,15,20,30,35,35,35,15,15],\n",
    " [10,10,10,10,15,15,15,15],\n",
    " [5,5,2,2],\n",
    " [8,8,89,89,898,1000]]\n",
    "std = np.std([np.sum(lista) for lista in listas])\n",
    "std"
   ]
  },
  {
   "cell_type": "markdown",
   "metadata": {},
   "source": [
    "30 - Escreva uma função que gere uma sequencia de Fibonnaci. O único parâmetro é a quantidade de números que devem gerados. (Fibonnaci é uma sequencia onde o próximo número é a soma dos dois imediatamente anteriores a ele)."
   ]
  },
  {
   "cell_type": "code",
   "execution_count": 208,
   "metadata": {},
   "outputs": [
    {
     "data": {
      "text/plain": [
       "[0, 1, 1, 2, 3, 5, 8, 13, 21]"
      ]
     },
     "execution_count": 208,
     "metadata": {},
     "output_type": "execute_result"
    }
   ],
   "source": [
    "def fibo(qtd):\n",
    "    seq = []\n",
    "    if qtd<=0: \n",
    "        print(\"Valor inválido\") \n",
    "    elif qtd==1: \n",
    "        seq.append(0)\n",
    "        return seq\n",
    "    else:\n",
    "        for i in range(1,(qtd+1)):\n",
    "            if i == 1:\n",
    "                seq.append(0)\n",
    "            elif i == 2:\n",
    "                seq.append(1)\n",
    "            else:\n",
    "                seq.append((seq[(i-2)] + seq[(i-3)]))\n",
    "    return seq\n",
    "#           \n",
    "fibo(9)"
   ]
  },
  {
   "cell_type": "markdown",
   "metadata": {},
   "source": [
    "31 - Monte uma função que vai calcular e comparar os custos de uma viagem para 3 cidades diferentes e que, ao final, irá recomendar qual é o destino mais barato. Essa função deve receber somente uma parâmetro 'noites'. A partir desse argumento a função deve calcular o custo total de viagem para cada uma das cidades. Utilize os dados abaixo.\n",
    "\n",
    "|   Cidade  | Hotel/noite | Alimentação/noite | Locomoção/noite |\n",
    "|:---------:|:-----------:|:-----------------:|:---------------:|\n",
    "| Abu Dhabi |     1300    |        200        |       150       |\n",
    "|  Genebra  |     1200    |        150        |        80       |\n",
    "|    Oslo   |     1000    |        250        |       100       |"
   ]
  },
  {
   "cell_type": "code",
   "execution_count": 39,
   "metadata": {},
   "outputs": [
    {
     "name": "stdout",
     "output_type": "stream",
     "text": [
      "Destino mais barato: Oslo, Quantidade de noites:5, Valor:R$6750,00\n"
     ]
    }
   ],
   "source": [
    "def calc_itn(noites):\n",
    "    df['total'] = (df['hotel'] * noites + df['alimentação'] * noites + df['locomoção'] * noites)\n",
    "    aux = df.sort_values(['total'])\n",
    "    aux = aux.iloc[0]\n",
    "    return 'Destino mais barato: %s, Quantidade de noites:%i, Valor:R$%i,00' %(aux['cidade'], noites, aux['total']) \n",
    "\n",
    "import pandas as pd\n",
    "df = pd.DataFrame([['Abu Dhabi',1300,200,150],\n",
    "                   ['Genebra',1200,150,80],\n",
    "                   ['Oslo',1000,250,100]], columns =['cidade','hotel','alimentação','locomoção'])\n",
    "\n",
    "print(calc_itn(5))"
   ]
  },
  {
   "cell_type": "markdown",
   "metadata": {},
   "source": [
    "32 - Defina uma função que calcule o z-score de todos os valores de uma lista e encontre quem são os outliers (z-score abaixo de -3 e acima de 3). Use a lista abaixo:\n",
    "\n",
    "lista8 = [201, 102, -5558, 232, 213, -9249, -247, 1183, 211, 7598, 130, 61, 192, 207, -46, 170, 116, 106, 225, 75, 138, 107, 108, -33, -9, 170, 147, 175, 137, -5, -9, 16600, 171, 183, 147, 171, 143, 104, 7, 227, 127, 173, 178, 194, 110, 20, 99, 11, 41, 242, 250, 62, 230, -32, 239, 241, 30, -35, 132, 214, 58, 90, -12, -24, 177, 116, 53, -26, 144, 29, 41, 217, 114, 109, -15, 32, 110, 162, 221, -16, 210, 87, 76, 3100, 73, 174, 194, 93, -9, 241, 234, 79, -4800, -22, -41, 224, 249, 114, -29, 79]"
   ]
  },
  {
   "cell_type": "code",
   "execution_count": 2,
   "metadata": {},
   "outputs": [
    {
     "name": "stdout",
     "output_type": "stream",
     "text": [
      "[0.004859569782318368, -0.0402292220123882, -2.6180328741137937, 0.01897828236449921, 0.010324877878646437, -4.299070556076035, -0.19917859914726288, 0.45210394899849865, 0.009413993195925093, 3.3737665688272123, -0.02747683645428937, -0.05890235800817577, 0.0007605887100723172, 0.007592223830482403, -0.10763468853376772, -0.009259142799862475, -0.033853029233338786, -0.038407452646945506, 0.015790185974974506, -0.05252616522912635, -0.023833297723403993, -0.037952010305584837, -0.03749656796422416, -0.10171393809607897, -0.09078332190342284, -0.009259142799862475, -0.019734316651157942, -0.006981931093059114, -0.024288740064764665, -0.08896155253798015, -0.09078332190342284, 7.473658525755984, -0.008803700458501804, -0.0033383923621737345, -0.019734316651157942, -0.008803700458501804, -0.02155608601660063, -0.03931833732966685, -0.08349624444165207, 0.01670107065769585, -0.02884316347837139, -0.007892815775780458, -0.005615604068977096, 0.0016714733927936619, -0.03658568328150282, -0.07757549400396334, -0.04159554903647022, -0.08167447507620938, -0.06801120483538921, 0.02353270577810594, 0.027176244508991317, -0.05844691566681509, 0.01806739768177787, -0.10125849575471829, 0.02216637875402392, 0.023077263436745266, -0.0730210705903566, -0.10262482277880032, -0.026565951771568026, 0.01078032022000711, -0.06026868503225778, -0.04569453010871627, -0.09214964892750485, -0.09761495702383292, -0.006071046410337769, -0.033853029233338786, -0.06254589673906115, -0.09852584170655426, -0.021100643675239956, -0.07347651293171728, -0.06801120483538921, 0.012146647244089127, -0.03476391391606013, -0.03704112562286349, -0.09351597595158687, -0.07211018590763527, -0.03658568328150282, -0.012902681530747855, 0.013968416609531817, -0.09397141829294754, 0.00895855085456442, -0.047060857132798284, -0.05207072288776568, 1.3251869173869077, -0.053437049911847695, -0.0074373734344197855, 0.0016714733927936619, -0.04432820308463425, -0.09078332190342284, 0.023077263436745266, 0.019889167047220557, -0.050704395863683666, -2.272807579362404, -0.09670407234111157, -0.10535747682696435, 0.015334743633613833, 0.026720802167630644, -0.03476391391606013, -0.09989216873063628, -0.050704395863683666]\n"
     ]
    }
   ],
   "source": [
    "import numpy as np\n",
    "lista8 = [201, 102, -5558, 232, 213, -9249, -247, 1183, 211, 7598, 130, 61, 192, 207, -46, 170, 116, 106, 225, 75, 138, 107, 108, -33, -9, 170, 147, 175, 137, -5, -9, 16600, 171, 183, 147, 171, 143, 104, 7, 227, 127, 173, 178, 194, 110, 20, 99, 11, 41, 242, 250, 62, 230, -32, 239, 241, 30, -35, 132, 214, 58, 90, -12, -24, 177, 116, 53, -26, 144, 29, 41, 217, 114, 109, -15, 32, 110, 162, 221, -16, 210, 87, 76, 3100, 73, 174, 194, 93, -9, 241, 234, 79, -4800, -22, -41, 224, 249, 114, -29, 79]\n",
    "media_p = np.mean(lista8)\n",
    "desvp = np.std(lista8)\n",
    "#\n",
    "def z(lista):\n",
    "    lista_resp = []\n",
    "    for num in lista8:\n",
    "        lista_resp.append((num - media_p)/desvp)\n",
    "    return(lista_resp)\n",
    "#\n",
    "print(z(lista8))\n",
    "#\n",
    "#from scipy import stats\n",
    "#b = stats.zscore(lista8)\n",
    "#b"
   ]
  },
  {
   "cell_type": "markdown",
   "metadata": {},
   "source": [
    "# 33 - Defina uma função que recebe uma lista aplica a fórmula abaixo a cada um dos valores e retorna uma lista com o resultado.\n",
    "\n",
    "![minmax](../imgs/minmax.jpg)\n"
   ]
  },
  {
   "cell_type": "code",
   "execution_count": 29,
   "metadata": {},
   "outputs": [
    {
     "data": {
      "text/plain": [
       "[-0.020618556701030927,\n",
       " -0.020618556701030927,\n",
       " -0.020618556701030927,\n",
       " -0.020618556701030927,\n",
       " -0.020618556701030927]"
      ]
     },
     "execution_count": 29,
     "metadata": {},
     "output_type": "execute_result"
    }
   ],
   "source": [
    "def calcula(lista):\n",
    "    res = []\n",
    "    menor = min(lista)\n",
    "    maior = max(lista)\n",
    "    for num in lista:\n",
    "        new = (num - (menor*num)) / ((maior*num)-(menor*num))\n",
    "        res.append(new)\n",
    "        new = 0\n",
    "    return(res)\n",
    "#\n",
    "lista = [5,3,4,9,100]\n",
    "calcula(lista)"
   ]
  },
  {
   "cell_type": "markdown",
   "metadata": {},
   "source": [
    "34 - Escreva um código que dê print em todos os quadrados dos valores de 0 a 10."
   ]
  },
  {
   "cell_type": "code",
   "execution_count": 3,
   "metadata": {},
   "outputs": [
    {
     "name": "stdout",
     "output_type": "stream",
     "text": [
      "[0, 1, 4, 9, 16, 25, 36, 49, 64, 81, 100]\n"
     ]
    }
   ],
   "source": [
    "print([x**2 for x in range(11)])"
   ]
  },
  {
   "cell_type": "markdown",
   "metadata": {},
   "source": [
    "35 - Escreva um código que encontre a soma de todos os valores pares de 0 a 10."
   ]
  },
  {
   "cell_type": "code",
   "execution_count": 70,
   "metadata": {},
   "outputs": [
    {
     "name": "stdout",
     "output_type": "stream",
     "text": [
      "30\n"
     ]
    }
   ],
   "source": [
    "acm = 0\n",
    "for x in range(11):\n",
    "    if x%2 == 0:\n",
    "        acm += x\n",
    "print(acm)"
   ]
  },
  {
   "cell_type": "markdown",
   "metadata": {},
   "source": [
    "37 - Construa uma função que receba 3 valores (a,b,c) e retorne uma lista com todos os valores entre 'a' e 'b' que são múltiplos de 'c'. Utilize os valores abaixo (10,500,23)"
   ]
  },
  {
   "cell_type": "code",
   "execution_count": 71,
   "metadata": {},
   "outputs": [
    {
     "name": "stdout",
     "output_type": "stream",
     "text": [
      "[23, 46, 69, 92, 115, 138, 161, 184, 207, 230, 253, 276, 299, 322, 345, 368, 391, 414, 437, 460, 483]\n"
     ]
    }
   ],
   "source": [
    "def mult(a,b,c):\n",
    "    resp =[]\n",
    "    for valor in range(a,(b+1)):\n",
    "        if valor%c == 0:\n",
    "            resp.append(valor)\n",
    "    return resp\n",
    "print(mult(10,500,23))"
   ]
  },
  {
   "cell_type": "markdown",
   "metadata": {},
   "source": [
    "38 -Escreva um código para ter o seguinte output:\n",
    "    \n",
    "    1 ---- 99\n",
    "    2 ---- 98\n",
    "    3 ---- 97\n",
    "    4 ---- 96\n",
    "    .\n",
    "    .\n",
    "    .\n",
    "    99 ---- 1"
   ]
  },
  {
   "cell_type": "code",
   "execution_count": 9,
   "metadata": {},
   "outputs": [
    {
     "name": "stdout",
     "output_type": "stream",
     "text": [
      "1 ---- 99\n",
      "2 ---- 98\n",
      "3 ---- 97\n",
      "4 ---- 96\n",
      "5 ---- 95\n",
      "6 ---- 94\n",
      "7 ---- 93\n",
      "8 ---- 92\n",
      "9 ---- 91\n",
      "10 ---- 90\n",
      "11 ---- 89\n",
      "12 ---- 88\n",
      "13 ---- 87\n",
      "14 ---- 86\n",
      "15 ---- 85\n",
      "16 ---- 84\n",
      "17 ---- 83\n",
      "18 ---- 82\n",
      "19 ---- 81\n",
      "20 ---- 80\n",
      "21 ---- 79\n",
      "22 ---- 78\n",
      "23 ---- 77\n",
      "24 ---- 76\n",
      "25 ---- 75\n",
      "26 ---- 74\n",
      "27 ---- 73\n",
      "28 ---- 72\n",
      "29 ---- 71\n",
      "30 ---- 70\n",
      "31 ---- 69\n",
      "32 ---- 68\n",
      "33 ---- 67\n",
      "34 ---- 66\n",
      "35 ---- 65\n",
      "36 ---- 64\n",
      "37 ---- 63\n",
      "38 ---- 62\n",
      "39 ---- 61\n",
      "40 ---- 60\n",
      "41 ---- 59\n",
      "42 ---- 58\n",
      "43 ---- 57\n",
      "44 ---- 56\n",
      "45 ---- 55\n",
      "46 ---- 54\n",
      "47 ---- 53\n",
      "48 ---- 52\n",
      "49 ---- 51\n",
      "50 ---- 50\n",
      "51 ---- 49\n",
      "52 ---- 48\n",
      "53 ---- 47\n",
      "54 ---- 46\n",
      "55 ---- 45\n",
      "56 ---- 44\n",
      "57 ---- 43\n",
      "58 ---- 42\n",
      "59 ---- 41\n",
      "60 ---- 40\n",
      "61 ---- 39\n",
      "62 ---- 38\n",
      "63 ---- 37\n",
      "64 ---- 36\n",
      "65 ---- 35\n",
      "66 ---- 34\n",
      "67 ---- 33\n",
      "68 ---- 32\n",
      "69 ---- 31\n",
      "70 ---- 30\n",
      "71 ---- 29\n",
      "72 ---- 28\n",
      "73 ---- 27\n",
      "74 ---- 26\n",
      "75 ---- 25\n",
      "76 ---- 24\n",
      "77 ---- 23\n",
      "78 ---- 22\n",
      "79 ---- 21\n",
      "80 ---- 20\n",
      "81 ---- 19\n",
      "82 ---- 18\n",
      "83 ---- 17\n",
      "84 ---- 16\n",
      "85 ---- 15\n",
      "86 ---- 14\n",
      "87 ---- 13\n",
      "88 ---- 12\n",
      "89 ---- 11\n",
      "90 ---- 10\n",
      "91 ---- 9\n",
      "92 ---- 8\n",
      "93 ---- 7\n",
      "94 ---- 6\n",
      "95 ---- 5\n",
      "96 ---- 4\n",
      "97 ---- 3\n",
      "98 ---- 2\n",
      "99 ---- 1\n"
     ]
    }
   ],
   "source": [
    "for num in range(1,100):\n",
    "    print('%i ---- %i' %(num,(100-num)))"
   ]
  },
  {
   "cell_type": "markdown",
   "metadata": {},
   "source": [
    "39 - Construa uma função que receba um input e printe um padrão conforme exemplo.\n",
    "\n",
    "input = 5\n",
    "\n",
    "output:\n",
    "\n",
    "+<br>\n",
    "++<br>\n",
    "+++<br>\n",
    "++++<br>\n",
    "+++++"
   ]
  },
  {
   "cell_type": "code",
   "execution_count": 2,
   "metadata": {},
   "outputs": [
    {
     "name": "stdout",
     "output_type": "stream",
     "text": [
      "Digite um número\n",
      "3\n",
      "+\n",
      "++\n",
      "+++\n"
     ]
    }
   ],
   "source": [
    "ent = int(input('Digite um número\\n'))\n",
    "for i in range(1, (ent+1)):\n",
    "    print('+' * i)"
   ]
  },
  {
   "cell_type": "markdown",
   "metadata": {},
   "source": [
    "40 - Itere sobre a lista abaixo e crie uma nova lista com todos os nomes em letras maisculuas e com underline ao invés de espaços. Dica: utilize compreensão de listas.\n",
    "\n",
    "lista_nomes = ['Geralt de Rívia','Yennefer de Vengerberd','Triss Marigold','Emhyr var Emreis','Jaskier o bardo']"
   ]
  },
  {
   "cell_type": "code",
   "execution_count": 14,
   "metadata": {},
   "outputs": [
    {
     "data": {
      "text/plain": [
       "['GERALT_DE_RÍVIA',\n",
       " 'YENNEFER_DE_VENGERBERD',\n",
       " 'TRISS_MARIGOLD',\n",
       " 'EMHYR_VAR_EMREIS',\n",
       " 'JASKIER_O_BARDO']"
      ]
     },
     "execution_count": 14,
     "metadata": {},
     "output_type": "execute_result"
    }
   ],
   "source": [
    "lista_nomes = ['Geralt de Rívia','Yennefer de Vengerberd','Triss Marigold','Emhyr var Emreis','Jaskier o bardo']\n",
    "nomes = [(nome.replace(' ',\"_\").upper()) for nome in lista_nomes]\n",
    "nomes"
   ]
  },
  {
   "cell_type": "markdown",
   "metadata": {},
   "source": [
    "41 - Voce é um jogador de tênis. Para decidir se você vai treinar hoje você deve avaliar duas coisas: o tempo e a temperatura. Crie um programa para saber se você deve ou não treinar hoje de acordo com as seguintes especificações:\n",
    "\n",
    "Tempo: chuvoso -> não jogar\n",
    "Tempo: ensolarado ou nublado -> jogar\n",
    "Temperatura maior ou igual a 15 graus e tempo ensolarado ou nublado -> jogar\n",
    "Temperatura menor que 15 graus e tempo ensolarado ou nublado -> não jogar\n",
    "Se o dia estiver ensolarado e a temperatura for de 16 graus. Você irá ou não jogar?"
   ]
  },
  {
   "cell_type": "code",
   "execution_count": 17,
   "metadata": {},
   "outputs": [
    {
     "data": {
      "text/plain": [
       "'Sim'"
      ]
     },
     "execution_count": 17,
     "metadata": {},
     "output_type": "execute_result"
    }
   ],
   "source": [
    "def jogo(tempo, temperatura):\n",
    "    jogar = ''\n",
    "    if tempo == 'chuvoso':\n",
    "        jogar = 'Não'\n",
    "    else:\n",
    "        if temperatura < 15:\n",
    "            jogar = 'Não'\n",
    "        else:\n",
    "            jogar = 'Sim'\n",
    "    return(jogar)\n",
    "#\n",
    "jogo('ensolarado', 16)"
   ]
  },
  {
   "cell_type": "markdown",
   "metadata": {},
   "source": [
    "42 - Construa usando um programa que represente a seguinte árvore abaixo:\n",
    "\n",
    "![arvore](../imgs/arvore.png)"
   ]
  },
  {
   "cell_type": "code",
   "execution_count": 30,
   "metadata": {},
   "outputs": [],
   "source": [
    "def tree(x,y,z):\n",
    "    if (x[0] == 'b'):\n",
    "        if len(y) >= 15:\n",
    "            print('Resultado1')\n",
    "        else: \n",
    "            if z%2 == 0:\n",
    "                print('Resultado2')\n",
    "            else:\n",
    "                print('Resultado1')\n",
    "    else:\n",
    "        if (x[1] == 'a'):\n",
    "            print('Resultado1')\n",
    "        else:\n",
    "            print('Resultado2')      "
   ]
  },
  {
   "cell_type": "code",
   "execution_count": 19,
   "metadata": {},
   "outputs": [
    {
     "name": "stdout",
     "output_type": "stream",
     "text": [
      "Resultado1\n"
     ]
    }
   ],
   "source": [
    "#Quando x = 'bacon', y = [1,2,3,4,5,6,7,8,9,10,'a','b','c','d','e','f','g','h'] e z = 15. Qual valor o programa deverá printar?\n",
    "x = 'bacon'\n",
    "y = [1,2,3,4,5,6,7,8,9,10,'a','b','c','d','e','f','g','h']\n",
    "z = 15\n",
    "tree(x,y,z)"
   ]
  },
  {
   "cell_type": "code",
   "execution_count": 20,
   "metadata": {},
   "outputs": [
    {
     "name": "stdout",
     "output_type": "stream",
     "text": [
      "Resultado2\n"
     ]
    }
   ],
   "source": [
    "#Quando x = 'bacon', y = [1,2,3,4], e z = 20. Qual valor o programa deverá printar?\n",
    "x = 'bacon'\n",
    "y = [1,2,3,4]\n",
    "z = 20\n",
    "tree(x,y,z)"
   ]
  },
  {
   "cell_type": "code",
   "execution_count": 21,
   "metadata": {},
   "outputs": [
    {
     "name": "stdout",
     "output_type": "stream",
     "text": [
      "Resultado2\n"
     ]
    }
   ],
   "source": [
    "#Quando x='couxeiro', y = [[1,2,3,4,5],[1,2,3,4,5],[1,2,3,4,5]] e z = 21. Qual valor o programa deverá printar?\n",
    "x='couxeiro'\n",
    "y = [[1,2,3,4,5],[1,2,3,4,5],[1,2,3,4,5]]\n",
    "z = 21\n",
    "tree(x,y,z)"
   ]
  },
  {
   "cell_type": "markdown",
   "metadata": {},
   "source": [
    "43 - Use a função zip para juntar as duas listas abaixo em uma tupla.\n",
    "nomes = ['nasser','joao','mateus'] salarios = [1000,1500,5000]"
   ]
  },
  {
   "cell_type": "code",
   "execution_count": 25,
   "metadata": {},
   "outputs": [
    {
     "data": {
      "text/plain": [
       "[('nasser', 1000), ('joao', 1500), ('mateus', 5000)]"
      ]
     },
     "execution_count": 25,
     "metadata": {},
     "output_type": "execute_result"
    }
   ],
   "source": [
    "nomes = ['nasser','joao','mateus'] \n",
    "salarios = [1000,1500,5000]\n",
    "tupla = zip(nomes, salarios)\n",
    "list(tupla)"
   ]
  },
  {
   "cell_type": "markdown",
   "metadata": {},
   "source": [
    "44 - Considera as duas listas abaixo, a primeira demonstra o valor real de venda de uma casa e a segunda demonstra o valor recomendado por um modelo de regressão. Gere uma terceira lista com o resíduo de cada ponto. O resíduo é o resultado da subtração entre o valor real e o valor predito para determinado ponto.\n",
    "\n",
    "real = [150358,368525,532152,144789] predito = [162122,365255,533200,185789]"
   ]
  },
  {
   "cell_type": "code",
   "execution_count": 2,
   "metadata": {},
   "outputs": [
    {
     "data": {
      "text/plain": [
       "[-11764, 3270, -1048, -41000]"
      ]
     },
     "execution_count": 2,
     "metadata": {},
     "output_type": "execute_result"
    }
   ],
   "source": [
    "real = [150358,368525,532152,144789] \n",
    "predito = [162122,365255,533200,185789]\n",
    "residuo = []\n",
    "for i, valor in enumerate(real):\n",
    "    residuo.append(valor - predito[i])\n",
    "residuo    "
   ]
  },
  {
   "cell_type": "markdown",
   "metadata": {},
   "source": [
    "45 - Utilize a função 'filter' do python para filtrar somente os valores positivos do resultado da questão 44."
   ]
  },
  {
   "cell_type": "code",
   "execution_count": 16,
   "metadata": {},
   "outputs": [
    {
     "data": {
      "text/plain": [
       "[3270]"
      ]
     },
     "execution_count": 16,
     "metadata": {},
     "output_type": "execute_result"
    }
   ],
   "source": [
    "def positivo(valor):\n",
    "    if valor >= 0:\n",
    "        return valor\n",
    "res_pos = filter(positivo, residuo)\n",
    "list(res_pos)"
   ]
  },
  {
   "cell_type": "markdown",
   "metadata": {},
   "source": [
    "46 - Ainda usando o resultado da questão 44 calcule, sem utilizar bibliotecas, o RMSE do valor predito. Referência: https://tinyurl.com/yd9ljcmj"
   ]
  },
  {
   "cell_type": "markdown",
   "metadata": {},
   "source": [
    "'''Eleve cada residual ao quadrado e depois some todos.\n",
    "Divida a soma dos residuais pelo número total de pontos de dados que você tem e tire a raiz quadrada do quociente. Isso lhe fornecerá a raiz quadrada dos erros quadráticos médios.'''"
   ]
  },
  {
   "cell_type": "code",
   "execution_count": 7,
   "metadata": {},
   "outputs": [
    {
     "data": {
      "text/plain": [
       "21396.161454803056"
      ]
     },
     "execution_count": 7,
     "metadata": {},
     "output_type": "execute_result"
    }
   ],
   "source": [
    "import numpy as np\n",
    "rmse = np.sqrt((np.sum([res**2 for res in residuo])/len(residuo)))\n",
    "rmse"
   ]
  }
 ],
 "metadata": {
  "kernelspec": {
   "display_name": "Python 3",
   "language": "python",
   "name": "python3"
  },
  "language_info": {
   "codemirror_mode": {
    "name": "ipython",
    "version": 3
   },
   "file_extension": ".py",
   "mimetype": "text/x-python",
   "name": "python",
   "nbconvert_exporter": "python",
   "pygments_lexer": "ipython3",
   "version": "3.7.4"
  }
 },
 "nbformat": 4,
 "nbformat_minor": 4
}
